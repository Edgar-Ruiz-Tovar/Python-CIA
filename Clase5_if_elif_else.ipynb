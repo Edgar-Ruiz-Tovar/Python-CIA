{
 "cells": [
  {
   "cell_type": "markdown",
   "metadata": {},
   "source": [
    "# Setencia if-else\n",
    "Es una estructura de programación la cual toma como base la sentencia condicional.\n",
    "\n",
    "Si se cumple *condición* entonces se obtiene *resultado*.\n",
    "\n",
    "Ejemplos:\n",
    "\n",
    "1. Si te da un número entonces suma otro número.\n",
    "2. Si te portas bien entonces te doy un chocolate.\n",
    "3. Si sacas una buena calificación te compro un regalo.\n",
    "\n",
    "Estructra:\n",
    "\n",
    "`if` condición:\n",
    "\n",
    "    resultado"
   ]
  },
  {
   "cell_type": "code",
   "execution_count": 1,
   "metadata": {},
   "outputs": [
    {
     "name": "stdout",
     "output_type": "stream",
     "text": [
      "Introduce un número: 8\n",
      "Tu número es positivo\n"
     ]
    }
   ],
   "source": [
    "x=int(input(\"Introduce un número: \"))\n",
    "if x>0:\n",
    "    print(\"Tu número es positivo\")"
   ]
  },
  {
   "cell_type": "markdown",
   "metadata": {},
   "source": [
    "**Nota**: Tener en cuenta la identación."
   ]
  },
  {
   "cell_type": "code",
   "execution_count": 2,
   "metadata": {
    "scrolled": true
   },
   "outputs": [
    {
     "name": "stdout",
     "output_type": "stream",
     "text": [
      "Introduce un número: -9\n",
      "Tu número es negativo\n"
     ]
    }
   ],
   "source": [
    "x=int(input(\"Introduce un número: \"))\n",
    "if x<0:\n",
    "    print(\"Tu número es negativo\")"
   ]
  },
  {
   "cell_type": "markdown",
   "metadata": {},
   "source": [
    "La sentencia `if` nos sirve para una condición, entonces cuando queramos hacer algo para **cualquier otra situación** debemos usar `else`."
   ]
  },
  {
   "cell_type": "code",
   "execution_count": 3,
   "metadata": {},
   "outputs": [
    {
     "name": "stdout",
     "output_type": "stream",
     "text": [
      "Introduce un número: -3\n",
      "Tu número es negativo\n"
     ]
    }
   ],
   "source": [
    "x=int(input(\"Introduce un número: \"))\n",
    "if x<0:\n",
    "    print(\"Tu número es negativo\")\n",
    "else:\n",
    "    print(\"Tu número no es negativo\")"
   ]
  },
  {
   "cell_type": "code",
   "execution_count": 4,
   "metadata": {},
   "outputs": [
    {
     "name": "stdout",
     "output_type": "stream",
     "text": [
      "Introduce un número: 3\n",
      "Tu número no es negativo\n"
     ]
    }
   ],
   "source": [
    "x=int(input(\"Introduce un número: \"))\n",
    "if x<0: # si se cumple que el número es negativo entonces\n",
    "    print(\"Tu número es negativo\") # imprime esto\n",
    "else: # en cualquier otro caso\n",
    "    print(\"Tu número no es negativo\") # imprime esto otro"
   ]
  },
  {
   "cell_type": "markdown",
   "metadata": {},
   "source": [
    "Como vemos la sentencia *if-else* nos sirve para tomar una decisión entre dos cosas, en caso de que queramos poner más opciones tenemos que usar `elif`."
   ]
  },
  {
   "cell_type": "code",
   "execution_count": 5,
   "metadata": {},
   "outputs": [
    {
     "name": "stdout",
     "output_type": "stream",
     "text": [
      "Introduce un número: 7\n",
      "Tu número es positivo\n"
     ]
    }
   ],
   "source": [
    "x=int(input(\"Introduce un número: \"))\n",
    "if x<0: # si se cumple que el número es negativo entonces\n",
    "    print(\"Tu número es negativo\") # imprime esto\n",
    "elif x>0: # si se cumple que el número es positivo entonces\n",
    "    print(\"Tu número es positivo\") # imprime esto\n",
    "else: # en cualquier otro caso\n",
    "    print(\"Tu número es cero\") # imprime esto otro"
   ]
  },
  {
   "cell_type": "code",
   "execution_count": 6,
   "metadata": {},
   "outputs": [
    {
     "name": "stdout",
     "output_type": "stream",
     "text": [
      "Introduce un número: -7\n",
      "Tu número es negativo\n"
     ]
    }
   ],
   "source": [
    "x=int(input(\"Introduce un número: \"))\n",
    "if x<0: # si se cumple que el número es negativo entonces\n",
    "    print(\"Tu número es negativo\") # imprime esto\n",
    "elif x>0: # si se cumple que el número es positivo entonces\n",
    "    print(\"Tu número es positivo\") # imprime esto\n",
    "else: # en cualquier otro caso\n",
    "    print(\"Tu número es cero\") # imprime esto otro"
   ]
  },
  {
   "cell_type": "code",
   "execution_count": 7,
   "metadata": {},
   "outputs": [
    {
     "name": "stdout",
     "output_type": "stream",
     "text": [
      "Introduce un número: 0\n",
      "Tu número es cero\n"
     ]
    }
   ],
   "source": [
    "x=int(input(\"Introduce un número: \"))\n",
    "if x<0: # si se cumple que el número es negativo entonces\n",
    "    print(\"Tu número es negativo\") # imprime esto\n",
    "elif x>0: # si se cumple que el número es positivo entonces\n",
    "    print(\"Tu número es positivo\") # imprime esto\n",
    "else: # en cualquier otro caso\n",
    "    print(\"Tu número es cero\") # imprime esto otro"
   ]
  }
 ],
 "metadata": {
  "kernelspec": {
   "display_name": "Python 3",
   "language": "python",
   "name": "python3"
  },
  "language_info": {
   "codemirror_mode": {
    "name": "ipython",
    "version": 3
   },
   "file_extension": ".py",
   "mimetype": "text/x-python",
   "name": "python",
   "nbconvert_exporter": "python",
   "pygments_lexer": "ipython3",
   "version": "3.7.3"
  }
 },
 "nbformat": 4,
 "nbformat_minor": 2
}
