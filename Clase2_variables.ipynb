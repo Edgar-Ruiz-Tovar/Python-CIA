{
 "cells": [
  {
   "cell_type": "markdown",
   "metadata": {},
   "source": [
    "# Variables\n",
    "Una variable es un espacio de memoria al cual nosotros le damos un nombre\n",
    "## Tipos de variables\n",
    "1. Entero. Ejemplo: 5\n",
    "2. Flotante. Ejemplo: 5.2\n",
    "3. String. Ejemplo: a, hola."
   ]
  },
  {
   "cell_type": "code",
   "execution_count": 2,
   "metadata": {
    "scrolled": false
   },
   "outputs": [
    {
     "name": "stdout",
     "output_type": "stream",
     "text": [
      "Introduce tu nombre: Mateo\n",
      "Mateo\n"
     ]
    }
   ],
   "source": [
    "nombre=input(\"Introduce tu nombre: \")\n",
    "print(nombre)"
   ]
  },
  {
   "cell_type": "code",
   "execution_count": 6,
   "metadata": {
    "scrolled": true
   },
   "outputs": [
    {
     "name": "stdout",
     "output_type": "stream",
     "text": [
      "Introduce tu nombre: Edgar\n",
      "Hola Edgar\n"
     ]
    }
   ],
   "source": [
    "nombre=input(\"Introduce tu nombre: \")\n",
    "print(\"Hola \" +nombre)"
   ]
  },
  {
   "cell_type": "code",
   "execution_count": 7,
   "metadata": {},
   "outputs": [
    {
     "data": {
      "text/plain": [
       "8"
      ]
     },
     "execution_count": 7,
     "metadata": {},
     "output_type": "execute_result"
    }
   ],
   "source": [
    "num1=2\n",
    "num2=6\n",
    "num1+num2"
   ]
  },
  {
   "cell_type": "code",
   "execution_count": 12,
   "metadata": {},
   "outputs": [
    {
     "name": "stdout",
     "output_type": "stream",
     "text": [
      "Suma: 20\n",
      "Resta: 12\n",
      "Multiplicación: 64\n",
      "División: 4.0\n"
     ]
    }
   ],
   "source": [
    "num1=16\n",
    "num2=4\n",
    "print(\"Suma: \"+str(num1+num2))\n",
    "print(\"Resta: \"+str(num1-num2))\n",
    "print(\"Multiplicación: \"+str(num1*num2))\n",
    "print(\"División: \"+str(num1/num2))"
   ]
  }
 ],
 "metadata": {
  "kernelspec": {
   "display_name": "Python 3",
   "language": "python",
   "name": "python3"
  },
  "language_info": {
   "codemirror_mode": {
    "name": "ipython",
    "version": 3
   },
   "file_extension": ".py",
   "mimetype": "text/x-python",
   "name": "python",
   "nbconvert_exporter": "python",
   "pygments_lexer": "ipython3",
   "version": "3.7.3"
  }
 },
 "nbformat": 4,
 "nbformat_minor": 2
}
