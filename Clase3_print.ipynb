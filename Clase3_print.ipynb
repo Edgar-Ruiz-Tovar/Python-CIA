{
 "cells": [
  {
   "cell_type": "markdown",
   "metadata": {},
   "source": [
    "# Función: print()\n",
    "La función `print()` nos sirve para imprimir en pantalla.\n",
    "\n",
    "Nos imprimirá aquello que pongamos entre los paréntesis.\n",
    "\n",
    "Podemos imprimir cualquier tipo de dato: enteros, flotantes y strings."
   ]
  },
  {
   "cell_type": "code",
   "execution_count": 2,
   "metadata": {},
   "outputs": [
    {
     "name": "stdout",
     "output_type": "stream",
     "text": [
      "Hola\n"
     ]
    }
   ],
   "source": [
    "print(\"Hola\")"
   ]
  },
  {
   "cell_type": "code",
   "execution_count": 3,
   "metadata": {},
   "outputs": [
    {
     "name": "stdout",
     "output_type": "stream",
     "text": [
      "Hola\n"
     ]
    }
   ],
   "source": [
    "print('Hola')"
   ]
  },
  {
   "cell_type": "code",
   "execution_count": 4,
   "metadata": {},
   "outputs": [
    {
     "name": "stdout",
     "output_type": "stream",
     "text": [
      "Hola mundo\n",
      "Cómo estás?\n"
     ]
    }
   ],
   "source": [
    "print(\"Hola mundo\")\n",
    "print(\"Cómo estás?\")"
   ]
  },
  {
   "cell_type": "markdown",
   "metadata": {},
   "source": [
    "Nota: cada `print()` al final pone un salto de línea"
   ]
  },
  {
   "cell_type": "markdown",
   "metadata": {},
   "source": [
    "## Saltos de línea"
   ]
  },
  {
   "cell_type": "code",
   "execution_count": 6,
   "metadata": {
    "scrolled": false
   },
   "outputs": [
    {
     "name": "stdout",
     "output_type": "stream",
     "text": [
      "Hola mundo\n",
      "Cómo estás?\n"
     ]
    }
   ],
   "source": [
    "print(\"Hola mundo\\nCómo estás?\")"
   ]
  },
  {
   "cell_type": "markdown",
   "metadata": {},
   "source": [
    "## Parámetro end"
   ]
  },
  {
   "cell_type": "code",
   "execution_count": 7,
   "metadata": {},
   "outputs": [
    {
     "name": "stdout",
     "output_type": "stream",
     "text": [
      "Hola César\n"
     ]
    }
   ],
   "source": [
    "print(\"Hola\",end=\" \")\n",
    "print(\"César\")"
   ]
  },
  {
   "cell_type": "code",
   "execution_count": 8,
   "metadata": {},
   "outputs": [
    {
     "name": "stdout",
     "output_type": "stream",
     "text": [
      "Hola César\n",
      "Otra línea\n"
     ]
    }
   ],
   "source": [
    "print(\"Hola\",end=\" \")\n",
    "print(\"César\")\n",
    "print(\"Otra línea\")"
   ]
  },
  {
   "cell_type": "code",
   "execution_count": 9,
   "metadata": {},
   "outputs": [
    {
     "name": "stdout",
     "output_type": "stream",
     "text": [
      "Hola qué tal César\n"
     ]
    }
   ],
   "source": [
    "print(\"Hola\",end=\" qué tal \")\n",
    "print(\"César\")"
   ]
  },
  {
   "cell_type": "markdown",
   "metadata": {},
   "source": [
    "## Separado por comas"
   ]
  },
  {
   "cell_type": "code",
   "execution_count": 11,
   "metadata": {
    "scrolled": true
   },
   "outputs": [
    {
     "name": "stdout",
     "output_type": "stream",
     "text": [
      "8\n",
      "4.34\n",
      "Hola mundo\n",
      "8 4.34 Hola mundo\n"
     ]
    }
   ],
   "source": [
    "var1=8 # entero\n",
    "var2=4.34 # flotante\n",
    "texto=\"Hola mundo\" # string\n",
    "print(var1)\n",
    "print(var2)\n",
    "print(texto)\n",
    "# manera más fácil de imprimir todos\n",
    "print(var1,var2,texto)"
   ]
  },
  {
   "cell_type": "markdown",
   "metadata": {},
   "source": [
    "## Parámetro sep"
   ]
  },
  {
   "cell_type": "code",
   "execution_count": 12,
   "metadata": {},
   "outputs": [
    {
     "name": "stdout",
     "output_type": "stream",
     "text": [
      "8\t4.34\tHola mundo\n"
     ]
    }
   ],
   "source": [
    "print(var1,var2,texto,sep=\"\\t\")"
   ]
  },
  {
   "cell_type": "code",
   "execution_count": 13,
   "metadata": {
    "scrolled": true
   },
   "outputs": [
    {
     "name": "stdout",
     "output_type": "stream",
     "text": [
      "8\n",
      "4.34\n",
      "Hola mundo\n"
     ]
    }
   ],
   "source": [
    "print(var1,var2,texto,sep=\"\\n\")"
   ]
  },
  {
   "cell_type": "code",
   "execution_count": 15,
   "metadata": {},
   "outputs": [
    {
     "name": "stdout",
     "output_type": "stream",
     "text": [
      "Hola Cómo estás?\n"
     ]
    }
   ],
   "source": [
    "cadena1=\"Hola \"\n",
    "cadena2=\"Cómo estás?\"\n",
    "print(cadena1+cadena2)"
   ]
  },
  {
   "cell_type": "markdown",
   "metadata": {},
   "source": [
    "## Ejercicios\n",
    "1. Imprimir las siguientes variables separadas por el caracter x:\n",
    "\n",
    "`var1=\"Hola\"`\n",
    "\n",
    "`var2=\"cómo\"`\n",
    "\n",
    "`var3=\"estás\"`\n",
    "\n",
    "`var4=\"hoy\"`\n",
    "\n",
    "`var5=\"?\"`\n",
    "2. Impirmir el siguiente texto con un solo `print()`:\n",
    "\n",
    "Al pan, pan\n",
    "\n",
    "Al vino, vino"
   ]
  },
  {
   "cell_type": "markdown",
   "metadata": {},
   "source": [
    "## Soluciones"
   ]
  },
  {
   "cell_type": "code",
   "execution_count": 16,
   "metadata": {},
   "outputs": [
    {
     "name": "stdout",
     "output_type": "stream",
     "text": [
      "Hola x cómo x estás x hoy x ?\n"
     ]
    }
   ],
   "source": [
    "var1=\"Hola\"\n",
    "var2=\"cómo\"\n",
    "var3=\"estás\"\n",
    "var4=\"hoy\"\n",
    "var5=\"?\"\n",
    "print(var1,var2,var3,var4,var5,sep=\" x \")"
   ]
  },
  {
   "cell_type": "code",
   "execution_count": 18,
   "metadata": {},
   "outputs": [
    {
     "name": "stdout",
     "output_type": "stream",
     "text": [
      "Al pan, pan\n",
      "\n",
      "Al vino, vino\n"
     ]
    }
   ],
   "source": [
    "print(\"Al pan, pan\\n\\nAl vino, vino\")"
   ]
  }
 ],
 "metadata": {
  "kernelspec": {
   "display_name": "Python 3",
   "language": "python",
   "name": "python3"
  },
  "language_info": {
   "codemirror_mode": {
    "name": "ipython",
    "version": 3
   },
   "file_extension": ".py",
   "mimetype": "text/x-python",
   "name": "python",
   "nbconvert_exporter": "python",
   "pygments_lexer": "ipython3",
   "version": "3.7.3"
  }
 },
 "nbformat": 4,
 "nbformat_minor": 2
}
